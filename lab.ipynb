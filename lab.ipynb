{
 "cells": [
  {
   "cell_type": "code",
   "execution_count": null,
   "id": "b0d95c79",
   "metadata": {},
   "outputs": [],
   "source": [
    "from agents import Agent, trace, Runner,WebSearchTool,function_tool\n",
    "from dotenv import load_dotenv\n",
    "import os\n",
    "from pydantic import BaseModel, Field\n",
    "from agents import ModelSettings\n",
    "from IPython.display import Markdown, display\n",
    "from agents import Agent, WebSearchTool, trace, Runner, function_tool\n",
    "import sendgrid\n",
    "from sendgrid.helpers.mail import Mail, Email, To, Content\n",
    "import asyncio\n",
    "from typing import Dict"
   ]
  },
  {
   "cell_type": "code",
   "execution_count": 30,
   "id": "6c4b2a3e",
   "metadata": {},
   "outputs": [
    {
     "data": {
      "text/plain": [
       "True"
      ]
     },
     "execution_count": 30,
     "metadata": {},
     "output_type": "execute_result"
    }
   ],
   "source": [
    "load_dotenv()"
   ]
  },
  {
   "cell_type": "code",
   "execution_count": 31,
   "id": "f3630d6e",
   "metadata": {},
   "outputs": [],
   "source": [
    "os.environ[\"OPENAI_API_KEY\"] = os.getenv(\"OPENAI_API_KEY\")"
   ]
  },
  {
   "cell_type": "markdown",
   "id": "ef4e9bbc",
   "metadata": {},
   "source": [
    "### email agent"
   ]
  },
  {
   "cell_type": "code",
   "execution_count": 55,
   "id": "2453684a",
   "metadata": {},
   "outputs": [],
   "source": [
    "@function_tool\n",
    "def send_email(subject: str, html_body: str) -> Dict[str, str]:\n",
    "    \"\"\" Send out an email with the given subject and HTML body \"\"\"\n",
    "    sg = sendgrid.SendGridAPIClient(api_key=os.environ.get('SENDGRID_API_KEY'))\n",
    "    from_email = Email(\"miiliab123@gmail.com\") \n",
    "    to_email = To(\"iliasbessiness123456@gmail.com\") \n",
    "    content = Content(\"text/html\", html_body)\n",
    "    mail = Mail(from_email, to_email, subject, content).get()\n",
    "    response = sg.client.mail.send.post(request_body=mail)\n",
    "    return {\"status\": \"success\"}"
   ]
  },
  {
   "cell_type": "code",
   "execution_count": 56,
   "id": "0fce9f01",
   "metadata": {},
   "outputs": [],
   "source": [
    "INSTRUCTIONS = \"\"\"You are able to send a nicely formatted HTML email based on a detailed report.\n",
    "You will be provided with a detailed report. You should use your tool to send one email, providing the \n",
    "report converted into clean, well presented HTML with an appropriate subject line.\"\"\"\n",
    "\n",
    "email_agent = Agent(\n",
    "    name=\"Email agent\",\n",
    "    instructions=INSTRUCTIONS,\n",
    "    tools=[send_email],\n",
    "    model=\"gpt-4o-mini\",\n",
    ")\n"
   ]
  },
  {
   "cell_type": "markdown",
   "id": "d9f5237b",
   "metadata": {},
   "source": [
    "### prompt agent"
   ]
  },
  {
   "cell_type": "code",
   "execution_count": 39,
   "id": "b37a947d",
   "metadata": {},
   "outputs": [],
   "source": [
    "prompt_INSTRUCTIONS=\"\"\" \n",
    "you are a prompt engener for product search agent. You will be given a text description of a product or product category,\n",
    "or a specific product name,or eny field related to product.\n",
    " and you have to decide is the given text or prompt is goood or not  . \n",
    " if not you have to  rewrite and enhance the prompt to be more specific and clear to get better results.\n",
    " your goal is to help user to get best prompt to give it to web search agent to get results from web search  tool.\n",
    "\"\"\"\n",
    "\n",
    "prompt_engennering_agent=Agent(name=\"web search agent\"\n",
    "      ,model=\"gpt-4o-mini\",\n",
    "      instructions=prompt_INSTRUCTIONS,\n",
    "      model_settings=ModelSettings(tool_choice=\"auto\")\n",
    ")"
   ]
  },
  {
   "cell_type": "markdown",
   "id": "f216249f",
   "metadata": {},
   "source": [
    "### web search agent"
   ]
  },
  {
   "cell_type": "code",
   "execution_count": 43,
   "id": "3d425d17",
   "metadata": {},
   "outputs": [],
   "source": [
    "WEB_INSTRUCTIONS=\"\"\" \n",
    "you are a product search agent. You will be given a product name\n",
    " and you have to find the best matching product from the web. \n",
    " Use the web search tool to find the product and return the most relevant result\n",
    "and find most rend products you can search chinees stores to find shepest ones that can be sell in usa.\n",
    "required:\n",
    "      1) if the user prompt is not related to product search you have to respond \n",
    "      with \"i can only help you with product search\"\n",
    "      2)respond only with the prompt you will give to web search tool i want direct prompt\n",
    "      3) if the user prompt is very general you have to enhance it to be more\n",
    "\"\"\"\n",
    "\n",
    "web_search_agent=Agent(name=\"web search agent\"\n",
    "      ,model=\"gpt-4o-mini\",\n",
    "      instructions=WEB_INSTRUCTIONS,\n",
    "      tools=[WebSearchTool(search_context_size=\"low\")],\n",
    "      model_settings=ModelSettings(tool_choice=\"required\")\n",
    ")"
   ]
  },
  {
   "cell_type": "markdown",
   "id": "73cbe6a9",
   "metadata": {},
   "source": [
    "### report agent"
   ]
  },
  {
   "cell_type": "code",
   "execution_count": 60,
   "id": "0aeb3d38",
   "metadata": {},
   "outputs": [],
   "source": [
    "INSTRUCTIONS = (\n",
    "    \"You are a senior researcher tasked with writing a cohesive report for a research query. \"\n",
    "    \"You will be provided with the original query, and some initial research done by a research assistant.\\n\"\n",
    "    \"You should first come up with an outline for the report that describes the structure and \"\n",
    "    \"flow of the report. Then, generate the report and return that as your final output.\\n\"\n",
    "    \"The final output should be in markdown format, and it should be lengthy and detailed. Aim \"\n",
    "    \"for 5-10 pages of content, at least 1000 words.\"\n",
    ")\n",
    "\n",
    "\n",
    "class ReportData(BaseModel):\n",
    "    short_summary: str = Field(description=\"A short 2-3 sentence summary of the findings.\")\n",
    "\n",
    "    markdown_report: str = Field(description=\"The final report\")\n",
    "\n",
    "    follow_up_questions: list[str] = Field(description=\"Suggested topics to research further\")\n",
    "\n",
    "\n",
    "writer_agent = Agent(\n",
    "    name=\"WriterAgent\",\n",
    "    instructions=INSTRUCTIONS,\n",
    "    model=\"gpt-4o-mini\",\n",
    "    output_type=ReportData,\n",
    ")"
   ]
  },
  {
   "cell_type": "code",
   "execution_count": 45,
   "id": "75299fb1",
   "metadata": {},
   "outputs": [
    {
     "data": {
      "text/markdown": [
       "The original prompt is unclear and has some grammatical issues. Here’s a revised version for better clarity and specificity: \n",
       "\n",
       "\"Please provide two current trending products related to dog cleaning and hygiene.\""
      ],
      "text/plain": [
       "<IPython.core.display.Markdown object>"
      ]
     },
     "metadata": {},
     "output_type": "display_data"
    }
   ],
   "source": [
    "prompt=\"give 2 trend product in animals higeen  related to dogs cleaning\"\n",
    "with trace(\"retrive product info\"):\n",
    "    result=await Runner.run(prompt_engennering_agent,prompt)\n",
    "display(Markdown(result.final_output))"
   ]
  },
  {
   "cell_type": "code",
   "execution_count": 58,
   "id": "b1ececd2",
   "metadata": {},
   "outputs": [
    {
     "data": {
      "text/markdown": [
       "The original prompt is somewhat vague and lacks specificity, which may lead to unclear search results. Here’s a rewritten version:\n",
       "\n",
       "---\n",
       "\n",
       "**Revised Prompt:**\n",
       "\n",
       "\"Please provide two trending dog cleaning products that focus on animal hygiene, including details about their features, effectiveness, and customer reviews.\"\n",
       "\n",
       "--- \n",
       "\n",
       "This version clarifies the request for trending products and specifies the need for features and customer feedback, which will yield more focused results."
      ],
      "text/plain": [
       "<IPython.core.display.Markdown object>"
      ]
     },
     "metadata": {},
     "output_type": "display_data"
    },
    {
     "data": {
      "text/markdown": [
       "Here are two trending products in the pet hygiene category related to dog cleaning:\n",
       "\n",
       "\n",
       "\n",
       "**iRobot Roomba j7+ Pet Vacuum**  \n",
       "This self-emptying robot vacuum is designed to detect and avoid pet messes, including accidents, while effectively cleaning up pet hair. It's ideal for maintaining a clean home in households with pets. ([petstalk.blog](https://petstalk.blog/best-pet-products-2025/?utm_source=openai))\n",
       "\n",
       "\n",
       "\n",
       "\n",
       "**Shark StainForce Spot Cleaner**  \n",
       "A compact, cordless spot cleaner that utilizes powerful suction and a dual-formula cleaning spray to eliminate both fresh and set-in stains on carpets, upholstery, and mattresses. It's particularly useful for homes with pets or children. ([tomsguide.com](https://www.tomsguide.com/home/home-appliances/i-just-tried-the-shark-stainforce-and-this-could-be-my-favorite-home-gadget-of-the-year?utm_source=openai))\n",
       "\n",
       "\n",
       "These products are available through various retailers, including Amazon and Chewy. "
      ],
      "text/plain": [
       "<IPython.core.display.Markdown object>"
      ]
     },
     "metadata": {},
     "output_type": "display_data"
    },
    {
     "data": {
      "text/markdown": [
       "Here are two trending products related to dog hygiene and cleaning:\n",
       "\n",
       "1. **Dog Bathing Systems**:\n",
       "   - **Description**: These systems can include portable dog showers or specialized bathing tubs that make it easier to wash dogs at home. Many models have built-in water heaters and adjustable water pressure settings, ensuring a comfortable experience for pets.\n",
       "   - **Trend**: Increasing popularity due to the convenience they offer for pet owners, especially those with larger or multiple dogs.\n",
       "\n",
       "2. **Pet Wipes**:\n",
       "   - **Description**: Antibacterial and hypoallergenic wipes designed specifically for pets. They are used for cleaning paws, fur, and sensitive areas without the need for a full bath. Many wipes are infused with natural ingredients that help combat odors and provide a quick clean.\n",
       "   - **Trend**: Rising demand as pet owners look for quick and effective ways to maintain cleanliness between baths.\n",
       "\n",
       "These products address common hygiene concerns and enhance the overall care of dogs."
      ],
      "text/plain": [
       "<IPython.core.display.Markdown object>"
      ]
     },
     "metadata": {},
     "output_type": "display_data"
    }
   ],
   "source": [
    "prompt=\"give 2 trend product in animals higeen  related to dogs cleaning\"\n",
    "with trace(\"search for product\"):\n",
    "    results = await asyncio.gather(\n",
    "        Runner.run(prompt_engennering_agent, prompt),\n",
    "        Runner.run(web_search_agent, prompt),\n",
    "        Runner.run(email_agent, prompt)\n",
    "    )\n",
    "for res in results:\n",
    "    display(Markdown(res.final_output))"
   ]
  },
  {
   "cell_type": "code",
   "execution_count": null,
   "id": "8696a43c",
   "metadata": {},
   "outputs": [
    {
     "name": "stdout",
     "output_type": "stream",
     "text": [
      "Starting research...\n",
      "Planning searches...\n",
      "Thinking about report...\n",
      "Finished writing report\n",
      "Writing email...\n",
      "Email sent\n",
      "Hooray!\n"
     ]
    }
   ],
   "source": [
    "query=\"give 2 trend product in animals higeen  related to dogs cleaning\"\n",
    "if query:\n",
    "    async def main():\n",
    "            with trace(\"Research trace\"):\n",
    "                result = await Runner.run(prompt_engennering_agent, f\"Query: {query}\")\n",
    "                input = f\"Search term: {result.final_output}\"\n",
    "                result = await Runner.run(web_search_agent, input)\n",
    "                input = f\"Original query: {query}\\nSummarized search results: {result.final_output}\"\n",
    "                result = await Runner.run(writer_agent, input)\n",
    "                #st.spinner(\"Writing email...\")\n",
    "                result = await Runner.run(email_agent, result.markdown_report)\n",
    "                print(\"Hooray!\")\n",
    "    asyncio.run(main())"
   ]
  },
  {
   "cell_type": "code",
   "execution_count": null,
   "id": "6f54d002",
   "metadata": {},
   "outputs": [
    {
     "data": {
      "text/plain": [
       "['What technological advancements are being integrated into pet grooming tools?',\n",
       " 'How do consumer purchasing patterns in pet accessories change with the introduction of multi-functional products?',\n",
       " 'What other emerging trends can we anticipate in the pet hygiene and grooming industry?',\n",
       " 'How do user reviews compare between traditional grooming tools and new integrated systems?',\n",
       " 'What role does marketing play in the popularity of modern dog grooming products?']"
      ]
     },
     "execution_count": 79,
     "metadata": {},
     "output_type": "execute_result"
    }
   ],
   "source": [
    "result.follow_up_questions"
   ]
  },
  {
   "cell_type": "code",
   "execution_count": null,
   "id": "d6e123ad",
   "metadata": {},
   "outputs": [],
   "source": []
  }
 ],
 "metadata": {
  "kernelspec": {
   "display_name": "env",
   "language": "python",
   "name": "python3"
  },
  "language_info": {
   "codemirror_mode": {
    "name": "ipython",
    "version": 3
   },
   "file_extension": ".py",
   "mimetype": "text/x-python",
   "name": "python",
   "nbconvert_exporter": "python",
   "pygments_lexer": "ipython3",
   "version": "3.10.0"
  }
 },
 "nbformat": 4,
 "nbformat_minor": 5
}
